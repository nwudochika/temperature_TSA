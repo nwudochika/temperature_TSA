{
  "cells": [
    {
      "cell_type": "markdown",
      "source": [
        "#### Download the St. John’s temperature dataset from Brightspace. This dataset records hourly reanalysis data of the two-meter temperature near St. John’s, NL from 2011–2020 (10 years). The goal is to develop a feedforward neural network to predict the temperature for the next 6 hours.\n",
        "\n",
        "Complete the following tasks:\n",
        "\n",
        "(a) Develop suitable baseline models. The simplest baseline for a prediction task like this is the so-called persistence prediction: You simply assume that the temperature for the next 6 hours will be the same as the last observed temperature. A second baseline is a simple linear regression model.\n",
        "\n",
        "(b) Training and testing data. Use 80% of the data for training and 20% of the data for testing. Since the data represents a time series, which has a natural ordering, be careful how you split and/or shuffle the data.\n",
        "\n",
        "(c) Experiment with various hyperparameter for your neural network model, e.g. varying the number of hidden layers, units per layer, activation functions, etc.\n",
        "\n",
        "(d) Visualize some of the predictions from the two baseline models and the feedforward NN model, along with the true labels.\n",
        "\n",
        "(e) Verify the models on the test dataset, using the mean squared error as verification metric. In particular, plot the mean squared error of the models as a function of the prediction time step.\n",
        "\n",
        "(f) Experiment with the number of input steps for your model to predict the temperature for the next 6 hours, e.g. using the past 6 hours, the past 12 hours or the past 24 hours.\n",
        "\n",
        "(g) Can your feedforward neural network models beat the two baselines consistently?"
      ],
      "metadata": {
        "id": "IgKohN0Hnugw"
      }
    },
    {
      "cell_type": "code",
      "execution_count": 1,
      "metadata": {
        "colab": {
          "base_uri": "https://localhost:8080/"
        },
        "id": "K_b5FbyY17po",
        "outputId": "af0b5bd1-223d-47f6-aadf-6ee17942aca6"
      },
      "outputs": [
        {
          "output_type": "stream",
          "name": "stdout",
          "text": [
            "Looking in indexes: https://pypi.org/simple, https://us-python.pkg.dev/colab-wheels/public/simple/\n",
            "Requirement already satisfied: netCDF4 in /usr/local/lib/python3.8/dist-packages (1.6.2)\n",
            "Requirement already satisfied: cftime in /usr/local/lib/python3.8/dist-packages (from netCDF4) (1.6.2)\n",
            "Requirement already satisfied: numpy>=1.9 in /usr/local/lib/python3.8/dist-packages (from netCDF4) (1.22.4)\n"
          ]
        },
        {
          "output_type": "stream",
          "name": "stderr",
          "text": [
            "<ipython-input-1-6eb68a30d7ac>:7: FutureWarning: The pandas.datetime class is deprecated and will be removed from pandas in a future version. Import from datetime module instead.\n",
            "  from pandas import datetime\n"
          ]
        }
      ],
      "source": [
        "from google.colab import drive\n",
        "! pip install netCDF4\n",
        "from netCDF4 import Dataset\n",
        "import numpy as np\n",
        "import xarray as xr\n",
        "import pandas as pd\n",
        "from pandas import datetime\n",
        "from sklearn.linear_model import LinearRegression\n",
        "from sklearn.metrics import mean_squared_error\n",
        "from sklearn.model_selection import train_test_split\n",
        "import tensorflow as tf\n",
        "!pip install -q -U keras-tuner\n",
        "import keras_tuner as kt\n",
        "from matplotlib import figure\n",
        "import matplotlib.pyplot as plt\n",
        "import seaborn as sns\n",
        "from numpy import array\n",
        "from keras.models import Sequential\n",
        "from keras.layers import Dense\n",
        " \n"
      ]
    },
    {
      "cell_type": "code",
      "execution_count": 2,
      "metadata": {
        "colab": {
          "base_uri": "https://localhost:8080/"
        },
        "id": "c2m7vxEJ2_eZ",
        "outputId": "ede01611-46bd-493a-b6fe-eabfd79440a2"
      },
      "outputs": [
        {
          "output_type": "stream",
          "name": "stdout",
          "text": [
            "Looking in indexes: https://pypi.org/simple, https://us-python.pkg.dev/colab-wheels/public/simple/\n",
            "Requirement already satisfied: xarray in /usr/local/lib/python3.8/dist-packages (2022.12.0)\n",
            "Requirement already satisfied: packaging>=21.3 in /usr/local/lib/python3.8/dist-packages (from xarray) (23.0)\n",
            "Requirement already satisfied: pandas>=1.3 in /usr/local/lib/python3.8/dist-packages (from xarray) (1.3.5)\n",
            "Requirement already satisfied: numpy>=1.20 in /usr/local/lib/python3.8/dist-packages (from xarray) (1.22.4)\n",
            "Requirement already satisfied: python-dateutil>=2.7.3 in /usr/local/lib/python3.8/dist-packages (from pandas>=1.3->xarray) (2.8.2)\n",
            "Requirement already satisfied: pytz>=2017.3 in /usr/local/lib/python3.8/dist-packages (from pandas>=1.3->xarray) (2022.7.1)\n",
            "Requirement already satisfied: six>=1.5 in /usr/local/lib/python3.8/dist-packages (from python-dateutil>=2.7.3->pandas>=1.3->xarray) (1.15.0)\n"
          ]
        }
      ],
      "source": [
        "! pip install xarray"
      ]
    },
    {
      "cell_type": "markdown",
      "metadata": {
        "id": "6kmmz_Er2xYp"
      },
      "source": [
        "## **xarray usage to convert netcdf to csv**\n",
        "Import module(s) should be executed only once per kernel execution."
      ]
    },
    {
      "cell_type": "code",
      "execution_count": 3,
      "metadata": {
        "id": "LEl71K4p27I2"
      },
      "outputs": [],
      "source": [
        "import xarray as xr\n",
        "import os"
      ]
    },
    {
      "cell_type": "code",
      "source": [
        "# Mount drive\n",
        "drive.mount(\"/content/drive\")"
      ],
      "metadata": {
        "colab": {
          "base_uri": "https://localhost:8080/"
        },
        "id": "gMxt1DLYv0wU",
        "outputId": "d190d016-4f2a-4ac8-8862-372a63fa0450"
      },
      "execution_count": 4,
      "outputs": [
        {
          "output_type": "stream",
          "name": "stdout",
          "text": [
            "Drive already mounted at /content/drive; to attempt to forcibly remount, call drive.mount(\"/content/drive\", force_remount=True).\n"
          ]
        }
      ]
    },
    {
      "cell_type": "code",
      "source": [
        "ncfid = Dataset('/content/drive/MyDrive/tempStJohns_v2.nc')"
      ],
      "metadata": {
        "id": "kHgmp3rmv8WN"
      },
      "execution_count": 5,
      "outputs": []
    },
    {
      "cell_type": "code",
      "source": [
        "print(ncfid)"
      ],
      "metadata": {
        "colab": {
          "base_uri": "https://localhost:8080/"
        },
        "id": "xBajT5djwNDF",
        "outputId": "9730dd47-f0ab-4ff0-ca93-1ff9b44bf322"
      },
      "execution_count": 6,
      "outputs": [
        {
          "output_type": "stream",
          "name": "stdout",
          "text": [
            "<class 'netCDF4._netCDF4.Dataset'>\n",
            "root group (NETCDF3_64BIT_OFFSET data model, file format NETCDF3):\n",
            "    Conventions: CF-1.6\n",
            "    history: 2021-02-03 00:49:51 GMT by grib_to_netcdf-2.16.0: /opt/ecmwf/eccodes/bin/grib_to_netcdf -S param -o /cache/data2/adaptor.mars.internal-1612306467.0641284-4955-27-685dbd6e-9572-4267-a9a7-5a61b7e919e4.nc /cache/tmp/685dbd6e-9572-4267-a9a7-5a61b7e919e4-adaptor.mars.internal-1612306467.0646257-4955-9-tmp.grib\n",
            "    dimensions(sizes): longitude(1), latitude(1), expver(2), time(87672)\n",
            "    variables(dimensions): float32 longitude(longitude), float32 latitude(latitude), int32 expver(expver), int32 time(time), int16 t2m(time, expver, latitude, longitude)\n",
            "    groups: \n"
          ]
        }
      ]
    },
    {
      "cell_type": "code",
      "source": [
        "# Load in temperature data (and convert to celcius)\n",
        "temp = ncfid['t2m'][:, 0,0,0]-273.15\n",
        "temp"
      ],
      "metadata": {
        "colab": {
          "base_uri": "https://localhost:8080/"
        },
        "id": "nsCqmZVD19r5",
        "outputId": "3a0bed17-62c3-4d8a-a921-97338a922438"
      },
      "execution_count": 7,
      "outputs": [
        {
          "output_type": "execute_result",
          "data": {
            "text/plain": [
              "masked_array(data=[-0.3391920819591405, -0.4932865862010658,\n",
              "                   -0.36627145090540125, ..., --, --, --],\n",
              "             mask=[False, False, False, ...,  True,  True,  True],\n",
              "       fill_value=-32767)"
            ]
          },
          "metadata": {},
          "execution_count": 7
        }
      ]
    },
    {
      "cell_type": "code",
      "source": [
        "time = ncfid['time']\n",
        "time"
      ],
      "metadata": {
        "colab": {
          "base_uri": "https://localhost:8080/"
        },
        "id": "Y4TW5-nV_k-C",
        "outputId": "c3f671b1-5d3a-4a49-ca43-b159de893bc7"
      },
      "execution_count": 8,
      "outputs": [
        {
          "output_type": "execute_result",
          "data": {
            "text/plain": [
              "<class 'netCDF4._netCDF4.Variable'>\n",
              "int32 time(time)\n",
              "    units: hours since 1900-01-01 00:00:00.0\n",
              "    long_name: time\n",
              "    calendar: gregorian\n",
              "unlimited dimensions: \n",
              "current shape = (87672,)\n",
              "filling on, default _FillValue of -2147483647 used"
            ]
          },
          "metadata": {},
          "execution_count": 8
        }
      ]
    },
    {
      "cell_type": "code",
      "source": [
        "# total number of data points missing\n",
        "np.sum([int(i) for i in temp.mask])\n"
      ],
      "metadata": {
        "colab": {
          "base_uri": "https://localhost:8080/"
        },
        "id": "NGFnVCplwSzE",
        "outputId": "797e7c39-09f1-42f5-8fe8-5f05a59f2f06"
      },
      "execution_count": 9,
      "outputs": [
        {
          "output_type": "execute_result",
          "data": {
            "text/plain": [
              "744"
            ]
          },
          "metadata": {},
          "execution_count": 9
        }
      ]
    },
    {
      "cell_type": "code",
      "source": [
        "temp2 = temp[temp.mask == False]\n",
        "temp2.shape"
      ],
      "metadata": {
        "colab": {
          "base_uri": "https://localhost:8080/"
        },
        "id": "-VY4DSnL_Ak7",
        "outputId": "55938458-61c5-485e-a755-d1937220992a"
      },
      "execution_count": 10,
      "outputs": [
        {
          "output_type": "execute_result",
          "data": {
            "text/plain": [
              "(86928,)"
            ]
          },
          "metadata": {},
          "execution_count": 10
        }
      ]
    },
    {
      "cell_type": "code",
      "source": [
        "time2 = time[temp.mask == False]\n",
        "time2.shape"
      ],
      "metadata": {
        "colab": {
          "base_uri": "https://localhost:8080/"
        },
        "id": "MCfPJt62_XCe",
        "outputId": "aef8fd07-a18e-432b-d509-ff0b0ca759a9"
      },
      "execution_count": 11,
      "outputs": [
        {
          "output_type": "execute_result",
          "data": {
            "text/plain": [
              "(86928,)"
            ]
          },
          "metadata": {},
          "execution_count": 11
        }
      ]
    },
    {
      "cell_type": "code",
      "source": [
        "df = pd.DataFrame({'time': time2, 't2m': temp2})\n",
        "df"
      ],
      "metadata": {
        "colab": {
          "base_uri": "https://localhost:8080/",
          "height": 424
        },
        "id": "vp4nFAia7xeT",
        "outputId": "ce7b93e3-b711-427c-f66e-28d5bdb21e91"
      },
      "execution_count": 12,
      "outputs": [
        {
          "output_type": "execute_result",
          "data": {
            "text/plain": [
              "          time       t2m\n",
              "0       973008 -0.339192\n",
              "1       973009 -0.493287\n",
              "2       973010 -0.366271\n",
              "3       973011 -0.172847\n",
              "4       973012 -0.265691\n",
              "...        ...       ...\n",
              "86923  1059931  3.799438\n",
              "86924  1059932  1.655655\n",
              "86925  1059933  1.535087\n",
              "86926  1059934  0.540887\n",
              "86927  1059935  0.782667\n",
              "\n",
              "[86928 rows x 2 columns]"
            ],
            "text/html": [
              "\n",
              "  <div id=\"df-27f6d18b-e08d-458b-9122-6e65022a8868\">\n",
              "    <div class=\"colab-df-container\">\n",
              "      <div>\n",
              "<style scoped>\n",
              "    .dataframe tbody tr th:only-of-type {\n",
              "        vertical-align: middle;\n",
              "    }\n",
              "\n",
              "    .dataframe tbody tr th {\n",
              "        vertical-align: top;\n",
              "    }\n",
              "\n",
              "    .dataframe thead th {\n",
              "        text-align: right;\n",
              "    }\n",
              "</style>\n",
              "<table border=\"1\" class=\"dataframe\">\n",
              "  <thead>\n",
              "    <tr style=\"text-align: right;\">\n",
              "      <th></th>\n",
              "      <th>time</th>\n",
              "      <th>t2m</th>\n",
              "    </tr>\n",
              "  </thead>\n",
              "  <tbody>\n",
              "    <tr>\n",
              "      <th>0</th>\n",
              "      <td>973008</td>\n",
              "      <td>-0.339192</td>\n",
              "    </tr>\n",
              "    <tr>\n",
              "      <th>1</th>\n",
              "      <td>973009</td>\n",
              "      <td>-0.493287</td>\n",
              "    </tr>\n",
              "    <tr>\n",
              "      <th>2</th>\n",
              "      <td>973010</td>\n",
              "      <td>-0.366271</td>\n",
              "    </tr>\n",
              "    <tr>\n",
              "      <th>3</th>\n",
              "      <td>973011</td>\n",
              "      <td>-0.172847</td>\n",
              "    </tr>\n",
              "    <tr>\n",
              "      <th>4</th>\n",
              "      <td>973012</td>\n",
              "      <td>-0.265691</td>\n",
              "    </tr>\n",
              "    <tr>\n",
              "      <th>...</th>\n",
              "      <td>...</td>\n",
              "      <td>...</td>\n",
              "    </tr>\n",
              "    <tr>\n",
              "      <th>86923</th>\n",
              "      <td>1059931</td>\n",
              "      <td>3.799438</td>\n",
              "    </tr>\n",
              "    <tr>\n",
              "      <th>86924</th>\n",
              "      <td>1059932</td>\n",
              "      <td>1.655655</td>\n",
              "    </tr>\n",
              "    <tr>\n",
              "      <th>86925</th>\n",
              "      <td>1059933</td>\n",
              "      <td>1.535087</td>\n",
              "    </tr>\n",
              "    <tr>\n",
              "      <th>86926</th>\n",
              "      <td>1059934</td>\n",
              "      <td>0.540887</td>\n",
              "    </tr>\n",
              "    <tr>\n",
              "      <th>86927</th>\n",
              "      <td>1059935</td>\n",
              "      <td>0.782667</td>\n",
              "    </tr>\n",
              "  </tbody>\n",
              "</table>\n",
              "<p>86928 rows × 2 columns</p>\n",
              "</div>\n",
              "      <button class=\"colab-df-convert\" onclick=\"convertToInteractive('df-27f6d18b-e08d-458b-9122-6e65022a8868')\"\n",
              "              title=\"Convert this dataframe to an interactive table.\"\n",
              "              style=\"display:none;\">\n",
              "        \n",
              "  <svg xmlns=\"http://www.w3.org/2000/svg\" height=\"24px\"viewBox=\"0 0 24 24\"\n",
              "       width=\"24px\">\n",
              "    <path d=\"M0 0h24v24H0V0z\" fill=\"none\"/>\n",
              "    <path d=\"M18.56 5.44l.94 2.06.94-2.06 2.06-.94-2.06-.94-.94-2.06-.94 2.06-2.06.94zm-11 1L8.5 8.5l.94-2.06 2.06-.94-2.06-.94L8.5 2.5l-.94 2.06-2.06.94zm10 10l.94 2.06.94-2.06 2.06-.94-2.06-.94-.94-2.06-.94 2.06-2.06.94z\"/><path d=\"M17.41 7.96l-1.37-1.37c-.4-.4-.92-.59-1.43-.59-.52 0-1.04.2-1.43.59L10.3 9.45l-7.72 7.72c-.78.78-.78 2.05 0 2.83L4 21.41c.39.39.9.59 1.41.59.51 0 1.02-.2 1.41-.59l7.78-7.78 2.81-2.81c.8-.78.8-2.07 0-2.86zM5.41 20L4 18.59l7.72-7.72 1.47 1.35L5.41 20z\"/>\n",
              "  </svg>\n",
              "      </button>\n",
              "      \n",
              "  <style>\n",
              "    .colab-df-container {\n",
              "      display:flex;\n",
              "      flex-wrap:wrap;\n",
              "      gap: 12px;\n",
              "    }\n",
              "\n",
              "    .colab-df-convert {\n",
              "      background-color: #E8F0FE;\n",
              "      border: none;\n",
              "      border-radius: 50%;\n",
              "      cursor: pointer;\n",
              "      display: none;\n",
              "      fill: #1967D2;\n",
              "      height: 32px;\n",
              "      padding: 0 0 0 0;\n",
              "      width: 32px;\n",
              "    }\n",
              "\n",
              "    .colab-df-convert:hover {\n",
              "      background-color: #E2EBFA;\n",
              "      box-shadow: 0px 1px 2px rgba(60, 64, 67, 0.3), 0px 1px 3px 1px rgba(60, 64, 67, 0.15);\n",
              "      fill: #174EA6;\n",
              "    }\n",
              "\n",
              "    [theme=dark] .colab-df-convert {\n",
              "      background-color: #3B4455;\n",
              "      fill: #D2E3FC;\n",
              "    }\n",
              "\n",
              "    [theme=dark] .colab-df-convert:hover {\n",
              "      background-color: #434B5C;\n",
              "      box-shadow: 0px 1px 3px 1px rgba(0, 0, 0, 0.15);\n",
              "      filter: drop-shadow(0px 1px 2px rgba(0, 0, 0, 0.3));\n",
              "      fill: #FFFFFF;\n",
              "    }\n",
              "  </style>\n",
              "\n",
              "      <script>\n",
              "        const buttonEl =\n",
              "          document.querySelector('#df-27f6d18b-e08d-458b-9122-6e65022a8868 button.colab-df-convert');\n",
              "        buttonEl.style.display =\n",
              "          google.colab.kernel.accessAllowed ? 'block' : 'none';\n",
              "\n",
              "        async function convertToInteractive(key) {\n",
              "          const element = document.querySelector('#df-27f6d18b-e08d-458b-9122-6e65022a8868');\n",
              "          const dataTable =\n",
              "            await google.colab.kernel.invokeFunction('convertToInteractive',\n",
              "                                                     [key], {});\n",
              "          if (!dataTable) return;\n",
              "\n",
              "          const docLinkHtml = 'Like what you see? Visit the ' +\n",
              "            '<a target=\"_blank\" href=https://colab.research.google.com/notebooks/data_table.ipynb>data table notebook</a>'\n",
              "            + ' to learn more about interactive tables.';\n",
              "          element.innerHTML = '';\n",
              "          dataTable['output_type'] = 'display_data';\n",
              "          await google.colab.output.renderOutput(dataTable, element);\n",
              "          const docLink = document.createElement('div');\n",
              "          docLink.innerHTML = docLinkHtml;\n",
              "          element.appendChild(docLink);\n",
              "        }\n",
              "      </script>\n",
              "    </div>\n",
              "  </div>\n",
              "  "
            ]
          },
          "metadata": {},
          "execution_count": 12
        }
      ]
    },
    {
      "cell_type": "code",
      "source": [
        "# convert the current index of the DataFrame df3 to datetime objects with the time unit specified as hours (unit='h'), and creates a new column 'time' in df3 to store these values.\n",
        "\n",
        "df['time'] = pd.to_datetime(df.index, unit='h')\n",
        "\n",
        "# set the values in the 'time' column of the DataFrame df3 as the index of the DataFrame.\n",
        "\n",
        "df1 = df.set_index('time')\n",
        "df1"
      ],
      "metadata": {
        "colab": {
          "base_uri": "https://localhost:8080/",
          "height": 455
        },
        "id": "iXPKeFJ37aki",
        "outputId": "0224ed24-d421-4e58-c9f2-f77e7fc6039c"
      },
      "execution_count": 13,
      "outputs": [
        {
          "output_type": "execute_result",
          "data": {
            "text/plain": [
              "                          t2m\n",
              "time                         \n",
              "1970-01-01 00:00:00 -0.339192\n",
              "1970-01-01 01:00:00 -0.493287\n",
              "1970-01-01 02:00:00 -0.366271\n",
              "1970-01-01 03:00:00 -0.172847\n",
              "1970-01-01 04:00:00 -0.265691\n",
              "...                       ...\n",
              "1979-12-01 19:00:00  3.799438\n",
              "1979-12-01 20:00:00  1.655655\n",
              "1979-12-01 21:00:00  1.535087\n",
              "1979-12-01 22:00:00  0.540887\n",
              "1979-12-01 23:00:00  0.782667\n",
              "\n",
              "[86928 rows x 1 columns]"
            ],
            "text/html": [
              "\n",
              "  <div id=\"df-25923f14-6a12-4d05-8c62-6bd885e815ce\">\n",
              "    <div class=\"colab-df-container\">\n",
              "      <div>\n",
              "<style scoped>\n",
              "    .dataframe tbody tr th:only-of-type {\n",
              "        vertical-align: middle;\n",
              "    }\n",
              "\n",
              "    .dataframe tbody tr th {\n",
              "        vertical-align: top;\n",
              "    }\n",
              "\n",
              "    .dataframe thead th {\n",
              "        text-align: right;\n",
              "    }\n",
              "</style>\n",
              "<table border=\"1\" class=\"dataframe\">\n",
              "  <thead>\n",
              "    <tr style=\"text-align: right;\">\n",
              "      <th></th>\n",
              "      <th>t2m</th>\n",
              "    </tr>\n",
              "    <tr>\n",
              "      <th>time</th>\n",
              "      <th></th>\n",
              "    </tr>\n",
              "  </thead>\n",
              "  <tbody>\n",
              "    <tr>\n",
              "      <th>1970-01-01 00:00:00</th>\n",
              "      <td>-0.339192</td>\n",
              "    </tr>\n",
              "    <tr>\n",
              "      <th>1970-01-01 01:00:00</th>\n",
              "      <td>-0.493287</td>\n",
              "    </tr>\n",
              "    <tr>\n",
              "      <th>1970-01-01 02:00:00</th>\n",
              "      <td>-0.366271</td>\n",
              "    </tr>\n",
              "    <tr>\n",
              "      <th>1970-01-01 03:00:00</th>\n",
              "      <td>-0.172847</td>\n",
              "    </tr>\n",
              "    <tr>\n",
              "      <th>1970-01-01 04:00:00</th>\n",
              "      <td>-0.265691</td>\n",
              "    </tr>\n",
              "    <tr>\n",
              "      <th>...</th>\n",
              "      <td>...</td>\n",
              "    </tr>\n",
              "    <tr>\n",
              "      <th>1979-12-01 19:00:00</th>\n",
              "      <td>3.799438</td>\n",
              "    </tr>\n",
              "    <tr>\n",
              "      <th>1979-12-01 20:00:00</th>\n",
              "      <td>1.655655</td>\n",
              "    </tr>\n",
              "    <tr>\n",
              "      <th>1979-12-01 21:00:00</th>\n",
              "      <td>1.535087</td>\n",
              "    </tr>\n",
              "    <tr>\n",
              "      <th>1979-12-01 22:00:00</th>\n",
              "      <td>0.540887</td>\n",
              "    </tr>\n",
              "    <tr>\n",
              "      <th>1979-12-01 23:00:00</th>\n",
              "      <td>0.782667</td>\n",
              "    </tr>\n",
              "  </tbody>\n",
              "</table>\n",
              "<p>86928 rows × 1 columns</p>\n",
              "</div>\n",
              "      <button class=\"colab-df-convert\" onclick=\"convertToInteractive('df-25923f14-6a12-4d05-8c62-6bd885e815ce')\"\n",
              "              title=\"Convert this dataframe to an interactive table.\"\n",
              "              style=\"display:none;\">\n",
              "        \n",
              "  <svg xmlns=\"http://www.w3.org/2000/svg\" height=\"24px\"viewBox=\"0 0 24 24\"\n",
              "       width=\"24px\">\n",
              "    <path d=\"M0 0h24v24H0V0z\" fill=\"none\"/>\n",
              "    <path d=\"M18.56 5.44l.94 2.06.94-2.06 2.06-.94-2.06-.94-.94-2.06-.94 2.06-2.06.94zm-11 1L8.5 8.5l.94-2.06 2.06-.94-2.06-.94L8.5 2.5l-.94 2.06-2.06.94zm10 10l.94 2.06.94-2.06 2.06-.94-2.06-.94-.94-2.06-.94 2.06-2.06.94z\"/><path d=\"M17.41 7.96l-1.37-1.37c-.4-.4-.92-.59-1.43-.59-.52 0-1.04.2-1.43.59L10.3 9.45l-7.72 7.72c-.78.78-.78 2.05 0 2.83L4 21.41c.39.39.9.59 1.41.59.51 0 1.02-.2 1.41-.59l7.78-7.78 2.81-2.81c.8-.78.8-2.07 0-2.86zM5.41 20L4 18.59l7.72-7.72 1.47 1.35L5.41 20z\"/>\n",
              "  </svg>\n",
              "      </button>\n",
              "      \n",
              "  <style>\n",
              "    .colab-df-container {\n",
              "      display:flex;\n",
              "      flex-wrap:wrap;\n",
              "      gap: 12px;\n",
              "    }\n",
              "\n",
              "    .colab-df-convert {\n",
              "      background-color: #E8F0FE;\n",
              "      border: none;\n",
              "      border-radius: 50%;\n",
              "      cursor: pointer;\n",
              "      display: none;\n",
              "      fill: #1967D2;\n",
              "      height: 32px;\n",
              "      padding: 0 0 0 0;\n",
              "      width: 32px;\n",
              "    }\n",
              "\n",
              "    .colab-df-convert:hover {\n",
              "      background-color: #E2EBFA;\n",
              "      box-shadow: 0px 1px 2px rgba(60, 64, 67, 0.3), 0px 1px 3px 1px rgba(60, 64, 67, 0.15);\n",
              "      fill: #174EA6;\n",
              "    }\n",
              "\n",
              "    [theme=dark] .colab-df-convert {\n",
              "      background-color: #3B4455;\n",
              "      fill: #D2E3FC;\n",
              "    }\n",
              "\n",
              "    [theme=dark] .colab-df-convert:hover {\n",
              "      background-color: #434B5C;\n",
              "      box-shadow: 0px 1px 3px 1px rgba(0, 0, 0, 0.15);\n",
              "      filter: drop-shadow(0px 1px 2px rgba(0, 0, 0, 0.3));\n",
              "      fill: #FFFFFF;\n",
              "    }\n",
              "  </style>\n",
              "\n",
              "      <script>\n",
              "        const buttonEl =\n",
              "          document.querySelector('#df-25923f14-6a12-4d05-8c62-6bd885e815ce button.colab-df-convert');\n",
              "        buttonEl.style.display =\n",
              "          google.colab.kernel.accessAllowed ? 'block' : 'none';\n",
              "\n",
              "        async function convertToInteractive(key) {\n",
              "          const element = document.querySelector('#df-25923f14-6a12-4d05-8c62-6bd885e815ce');\n",
              "          const dataTable =\n",
              "            await google.colab.kernel.invokeFunction('convertToInteractive',\n",
              "                                                     [key], {});\n",
              "          if (!dataTable) return;\n",
              "\n",
              "          const docLinkHtml = 'Like what you see? Visit the ' +\n",
              "            '<a target=\"_blank\" href=https://colab.research.google.com/notebooks/data_table.ipynb>data table notebook</a>'\n",
              "            + ' to learn more about interactive tables.';\n",
              "          element.innerHTML = '';\n",
              "          dataTable['output_type'] = 'display_data';\n",
              "          await google.colab.output.renderOutput(dataTable, element);\n",
              "          const docLink = document.createElement('div');\n",
              "          docLink.innerHTML = docLinkHtml;\n",
              "          element.appendChild(docLink);\n",
              "        }\n",
              "      </script>\n",
              "    </div>\n",
              "  </div>\n",
              "  "
            ]
          },
          "metadata": {},
          "execution_count": 13
        }
      ]
    },
    {
      "cell_type": "code",
      "source": [
        "def split_sequence(sequence, n_steps_in, n_steps_out):\n",
        "  X, y = list(), list()\n",
        "  for i in range(len(sequence)):\n",
        "  # find the end of this pattern\n",
        "    end_ix = i + n_steps_in\n",
        "    out_end_ix = end_ix + n_steps_out\n",
        "  # check if we are beyond the sequence\n",
        "    if out_end_ix > len(sequence):\n",
        "      break\n",
        "  # gather input and output parts of the pattern\n",
        "    seq_x, seq_y = sequence[i:end_ix], sequence[end_ix:out_end_ix]\n",
        "    X.append(seq_x)\n",
        "    y.append(seq_y)\n",
        "  return array(X), array(y)"
      ],
      "metadata": {
        "id": "vHOI7z5R7aoT"
      },
      "execution_count": 14,
      "outputs": []
    },
    {
      "cell_type": "code",
      "source": [
        "n_steps_in = 12\n",
        "n_steps_out = 6"
      ],
      "metadata": {
        "id": "LHI1Vz368jDl"
      },
      "execution_count": 15,
      "outputs": []
    },
    {
      "cell_type": "code",
      "source": [
        "X, y = split_sequence(df1, n_steps_in, n_steps_out)"
      ],
      "metadata": {
        "id": "bcUTVVIY7arU"
      },
      "execution_count": 16,
      "outputs": []
    },
    {
      "cell_type": "code",
      "source": [
        "n_inputs1 = X.shape[2] * X.shape[1]\n",
        "n_inputs2 = y.shape[2] * y.shape[1]\n",
        "XC = X.reshape(X.shape[0], n_inputs1)\n",
        "yC = y.reshape(y.shape[0], n_inputs2)"
      ],
      "metadata": {
        "id": "qsiixTsr7av_"
      },
      "execution_count": 17,
      "outputs": []
    },
    {
      "cell_type": "code",
      "source": [
        "print(XC.shape)\n",
        "print(yC.shape)"
      ],
      "metadata": {
        "colab": {
          "base_uri": "https://localhost:8080/"
        },
        "id": "UWpSB18z7azH",
        "outputId": "9046ccc1-7649-45c1-f01c-62651903ddf8"
      },
      "execution_count": 18,
      "outputs": [
        {
          "output_type": "stream",
          "name": "stdout",
          "text": [
            "(86911, 12)\n",
            "(86911, 6)\n"
          ]
        }
      ]
    },
    {
      "cell_type": "code",
      "source": [
        "def split_data(XC, yC, test_size=0.2):\n",
        "    n_samples = XC.shape[0]\n",
        "    n_test_samples = int(n_samples * test_size)\n",
        "    X_train, y_train = XC[:-n_test_samples], yC[:-n_test_samples]\n",
        "    X_test, y_test = XC[-n_test_samples:], yC[-n_test_samples:]\n",
        "    return X_train, X_test, y_train, y_test\n",
        "X_train, X_test, y_train, y_test = split_data(XC, yC, test_size=0.2)"
      ],
      "metadata": {
        "id": "UWl23cAQ7a1w"
      },
      "execution_count": 19,
      "outputs": []
    },
    {
      "cell_type": "code",
      "source": [
        "# Normalize the Data\n",
        "train_max = np.max(X_train)\n",
        "train_min = np.min(X_train)\n",
        "\n",
        "X_train = (X_train - train_min)/(train_max - train_min)\n",
        "X_test = (X_test - train_min)/(train_max - train_min)\n",
        "y_train = (y_train - train_min)/(train_max - train_min)\n",
        "y_test = (y_test - train_min)/(train_max - train_min)"
      ],
      "metadata": {
        "id": "8KwJVVNF7a-W"
      },
      "execution_count": 20,
      "outputs": []
    },
    {
      "cell_type": "markdown",
      "source": [
        "### Develop suitable baseline models. The simplest baseline for a prediction task like this is the so-called persistence prediction: You simply assume that the temperature for the next 6 hours will be the same as the last observed temperature. A second baseline is a simple linear regression model."
      ],
      "metadata": {
        "id": "DY67dNvjIKls"
      }
    },
    {
      "cell_type": "markdown",
      "source": [
        "### persistence model (first baseline model)"
      ],
      "metadata": {
        "id": "Iv_tww4eVTan"
      }
    },
    {
      "cell_type": "code",
      "source": [
        "pers_pred = np.repeat(np.expand_dims(X_test[:, n_steps_in-1], axis=1), n_steps_out, axis = 1)\n"
      ],
      "metadata": {
        "id": "yPWSRi0qVWZZ"
      },
      "execution_count": 21,
      "outputs": []
    },
    {
      "cell_type": "markdown",
      "source": [
        "### linear regression model (second baseline model)"
      ],
      "metadata": {
        "id": "6lxVI3zbGhss"
      }
    },
    {
      "cell_type": "code",
      "source": [
        "# create and fit model\n",
        "lm = LinearRegression()\n",
        "lm.fit(X_train, y_train)\n",
        "\n",
        "# predict using linear regression model\n",
        "lm_pred = lm.predict(X_test)\n"
      ],
      "metadata": {
        "id": "_qiHyCB1Gg19"
      },
      "execution_count": 22,
      "outputs": []
    },
    {
      "cell_type": "markdown",
      "source": [
        "### Define and Train MLP model"
      ],
      "metadata": {
        "id": "82Pi1RuzBwh6"
      }
    },
    {
      "cell_type": "code",
      "source": [
        "inp = tf.keras.layers.Input(shape=(n_steps_in,))\n",
        "b = tf.keras.layers.Dense(units = 128, activation = 'relu')(inp)\n",
        "b = tf.keras.layers.Dense(units = 128, activation = 'relu')(b)\n",
        "outp = tf.keras.layers.Dense(n_steps_out, activation = 'linear')(b)\n",
        "\n",
        "model = tf.keras.models.Model(inp, outp)\n",
        "model.summary()"
      ],
      "metadata": {
        "colab": {
          "base_uri": "https://localhost:8080/"
        },
        "id": "UvUDJUqUBvPT",
        "outputId": "c6c41f8c-1789-4669-96be-6e8b27c9cc52"
      },
      "execution_count": 23,
      "outputs": [
        {
          "output_type": "stream",
          "name": "stdout",
          "text": [
            "Model: \"model\"\n",
            "_________________________________________________________________\n",
            " Layer (type)                Output Shape              Param #   \n",
            "=================================================================\n",
            " input_1 (InputLayer)        [(None, 12)]              0         \n",
            "                                                                 \n",
            " dense (Dense)               (None, 128)               1664      \n",
            "                                                                 \n",
            " dense_1 (Dense)             (None, 128)               16512     \n",
            "                                                                 \n",
            " dense_2 (Dense)             (None, 6)                 774       \n",
            "                                                                 \n",
            "=================================================================\n",
            "Total params: 18,950\n",
            "Trainable params: 18,950\n",
            "Non-trainable params: 0\n",
            "_________________________________________________________________\n"
          ]
        }
      ]
    },
    {
      "cell_type": "markdown",
      "source": [
        "### Compile the model"
      ],
      "metadata": {
        "id": "FpiqywtyCtek"
      }
    },
    {
      "cell_type": "code",
      "source": [
        "model.compile(optimizer = 'adam', loss = 'mse', metrics = ['mse'])"
      ],
      "metadata": {
        "id": "OQPwsQ8NAKEN"
      },
      "execution_count": 24,
      "outputs": []
    },
    {
      "cell_type": "code",
      "source": [
        "history = model.fit(X_train, y_train, batch_size = 64, epochs = 20, validation_split = 0.1)"
      ],
      "metadata": {
        "colab": {
          "base_uri": "https://localhost:8080/"
        },
        "id": "Q1WmFSgGAKG3",
        "outputId": "0ec63171-ca2a-4e61-a95b-a14c6e6f8af8"
      },
      "execution_count": 25,
      "outputs": [
        {
          "output_type": "stream",
          "name": "stdout",
          "text": [
            "Epoch 1/20\n",
            "978/978 [==============================] - 4s 3ms/step - loss: 0.0028 - mse: 0.0028 - val_loss: 0.0013 - val_mse: 0.0013\n",
            "Epoch 2/20\n",
            "978/978 [==============================] - 5s 5ms/step - loss: 0.0013 - mse: 0.0013 - val_loss: 0.0012 - val_mse: 0.0012\n",
            "Epoch 3/20\n",
            "978/978 [==============================] - 4s 4ms/step - loss: 0.0013 - mse: 0.0013 - val_loss: 0.0012 - val_mse: 0.0012\n",
            "Epoch 4/20\n",
            "978/978 [==============================] - 3s 3ms/step - loss: 0.0013 - mse: 0.0013 - val_loss: 0.0012 - val_mse: 0.0012\n",
            "Epoch 5/20\n",
            "978/978 [==============================] - 3s 3ms/step - loss: 0.0012 - mse: 0.0012 - val_loss: 0.0013 - val_mse: 0.0013\n",
            "Epoch 6/20\n",
            "978/978 [==============================] - 4s 4ms/step - loss: 0.0012 - mse: 0.0012 - val_loss: 0.0012 - val_mse: 0.0012\n",
            "Epoch 7/20\n",
            "978/978 [==============================] - 4s 4ms/step - loss: 0.0012 - mse: 0.0012 - val_loss: 0.0012 - val_mse: 0.0012\n",
            "Epoch 8/20\n",
            "978/978 [==============================] - 3s 3ms/step - loss: 0.0012 - mse: 0.0012 - val_loss: 0.0012 - val_mse: 0.0012\n",
            "Epoch 9/20\n",
            "978/978 [==============================] - 3s 3ms/step - loss: 0.0012 - mse: 0.0012 - val_loss: 0.0015 - val_mse: 0.0015\n",
            "Epoch 10/20\n",
            "978/978 [==============================] - 3s 3ms/step - loss: 0.0012 - mse: 0.0012 - val_loss: 0.0012 - val_mse: 0.0012\n",
            "Epoch 11/20\n",
            "978/978 [==============================] - 5s 5ms/step - loss: 0.0012 - mse: 0.0012 - val_loss: 0.0015 - val_mse: 0.0015\n",
            "Epoch 12/20\n",
            "978/978 [==============================] - 6s 6ms/step - loss: 0.0012 - mse: 0.0012 - val_loss: 0.0012 - val_mse: 0.0012\n",
            "Epoch 13/20\n",
            "978/978 [==============================] - 8s 8ms/step - loss: 0.0012 - mse: 0.0012 - val_loss: 0.0012 - val_mse: 0.0012\n",
            "Epoch 14/20\n",
            "978/978 [==============================] - 7s 8ms/step - loss: 0.0012 - mse: 0.0012 - val_loss: 0.0012 - val_mse: 0.0012\n",
            "Epoch 15/20\n",
            "978/978 [==============================] - 6s 6ms/step - loss: 0.0012 - mse: 0.0012 - val_loss: 0.0012 - val_mse: 0.0012\n",
            "Epoch 16/20\n",
            "978/978 [==============================] - 8s 9ms/step - loss: 0.0012 - mse: 0.0012 - val_loss: 0.0012 - val_mse: 0.0012\n",
            "Epoch 17/20\n",
            "978/978 [==============================] - 3s 3ms/step - loss: 0.0012 - mse: 0.0012 - val_loss: 0.0012 - val_mse: 0.0012\n",
            "Epoch 18/20\n",
            "978/978 [==============================] - 3s 3ms/step - loss: 0.0012 - mse: 0.0012 - val_loss: 0.0012 - val_mse: 0.0012\n",
            "Epoch 19/20\n",
            "978/978 [==============================] - 4s 4ms/step - loss: 0.0012 - mse: 0.0012 - val_loss: 0.0013 - val_mse: 0.0013\n",
            "Epoch 20/20\n",
            "978/978 [==============================] - 4s 4ms/step - loss: 0.0012 - mse: 0.0012 - val_loss: 0.0012 - val_mse: 0.0012\n"
          ]
        }
      ]
    },
    {
      "cell_type": "code",
      "source": [
        "def plot_train_history(history, title):\n",
        "  loss = history.history['loss']\n",
        "  val_loss = history.history['val_loss']\n",
        "\n",
        "  epochs = range(len(loss))\n",
        "  \n",
        "  plt.figure()\n",
        "\n",
        "  plt.semilogy(epochs, loss, 'b', label = 'Training Loss')\n",
        "  plt.semilogy(epochs, val_loss, 'r', label = 'Validation Loss')\n",
        "  plt.title(title)\n",
        "  plt.legend()\n",
        "  \n",
        "  plt.show()"
      ],
      "metadata": {
        "id": "C3ZPxb0oAKJh"
      },
      "execution_count": 26,
      "outputs": []
    },
    {
      "cell_type": "code",
      "source": [
        "plot_train_history(history, 'Training and Validation Loss')"
      ],
      "metadata": {
        "colab": {
          "base_uri": "https://localhost:8080/",
          "height": 281
        },
        "id": "iOHUvx4WAKNY",
        "outputId": "ff107e83-2307-4a7c-8a37-e0cd70f6f21f"
      },
      "execution_count": 27,
      "outputs": [
        {
          "output_type": "display_data",
          "data": {
            "text/plain": [
              "<Figure size 432x288 with 1 Axes>"
            ],
            "image/png": "[encoded data removed]"
          },
          "metadata": {
            "needs_background": "light"
          }
        }
      ]
    },
    {
      "cell_type": "code",
      "source": [
        "# Prediction on test datasets for MLP\n",
        "mlp_pred = model.predict(X_test)\n",
        "\n",
        "# Prediction on test datasets for Linear\n",
        "lm_pred = lm.predict(X_test)\n",
        "\n",
        "# Persistence Prediction\n",
        "pers_pred = np.repeat(np.expand_dims(X_test[:, n_steps_in-1], axis = 1), n_steps_out, axis = 1)"
      ],
      "metadata": {
        "colab": {
          "base_uri": "https://localhost:8080/"
        },
        "id": "7z4xfVb2bnfd",
        "outputId": "021f52ec-4b34-40c0-ed8a-3a60cd465cd1"
      },
      "execution_count": 28,
      "outputs": [
        {
          "output_type": "stream",
          "name": "stdout",
          "text": [
            "544/544 [==============================] - 1s 2ms/step\n"
          ]
        }
      ]
    },
    {
      "cell_type": "markdown",
      "source": [
        "### Visualize some of the predictions from the two baseline models and the feedforward NN model, along with the true labels\n",
        "\n",
        "### Reverse the Normalization"
      ],
      "metadata": {
        "id": "VkmQE0sNDw0-"
      }
    },
    {
      "cell_type": "code",
      "source": [
        "def plot_results(x, true_pred, lm_pred, pers_pred, mlp_pred, ix):\n",
        "\n",
        "\n",
        "  x = (train_max - train_min)*x + train_min\n",
        "  true_pred = (train_max - train_min)*true_pred + train_min\n",
        "  pers_pred = (train_max - train_min)*pers_pred + train_min\n",
        "  lm_pred = (train_max - train_min)*lm_pred + train_min\n",
        "  mlp_pred = (train_max - train_min)*mlp_pred + train_min\n",
        "\n",
        "# Input Data\n",
        "  plt.plot(np.arange(-n_steps_in+1, 1), x[ix], 'k--')\n",
        "\n",
        "#Persistence Prediction\n",
        "  plt.plot(np.arange(1, n_steps_out+1), pers_pred[ix], 'g')\n",
        "\n",
        "# MLP prediction\n",
        "  plt.plot(np.arange(1, n_steps_out+1), mlp_pred[ix], 'b')\n",
        "\n",
        "#True Observed Future\n",
        "  plt.plot(np.arange(1, n_steps_out+1), true_pred[ix], 'r')\n",
        "\n",
        "#Legend\n",
        "  plt.legend([\"Input Tempt\", \"Persistence\", \"Linear\", \"MLP\", \"True Tempt\"])\n",
        "  plt.grid()\n",
        "  plt.xlabel(\"Input [h]\")\n",
        "  plt.ylabel(\"Temperature [c]\")"
      ],
      "metadata": {
        "id": "cOpZn8VGDv4q"
      },
      "execution_count": 29,
      "outputs": []
    },
    {
      "cell_type": "code",
      "source": [
        "plot_results(X_test, y_test, pers_pred, lm_pred, mlp_pred, np.random.randint(0, len(y_test)))"
      ],
      "metadata": {
        "id": "TiCh7WF8AKQZ",
        "colab": {
          "base_uri": "https://localhost:8080/",
          "height": 279
        },
        "outputId": "288fb57c-f58c-44bb-9955-38f7b9b90c5d"
      },
      "execution_count": 30,
      "outputs": [
        {
          "output_type": "display_data",
          "data": {
            "text/plain": [
              "<Figure size 432x288 with 1 Axes>"
            ],
            "image/png": "[encoded data removed]"
          },
          "metadata": {
            "needs_background": "light"
          }
        }
      ]
    },
    {
      "cell_type": "markdown",
      "source": [
        "### Verify the models on the test dataset, using the mean squared error as verification metric. In particular, plot the mean squared error of the models as a function of the prediction time step"
      ],
      "metadata": {
        "id": "ux9OePcvfeoS"
      }
    },
    {
      "cell_type": "code",
      "source": [
        "pers_mse = np.zeros(n_steps_out)\n",
        "lm_mse = np.zeros(n_steps_out)\n",
        "mlp_mse = np.zeros(n_steps_out)\n",
        "\n",
        "for i in range(n_steps_out):\n",
        "  pers_mse[i] = np.mean(np.square(y_test[:, i] - pers_pred[:, i]))\n",
        "  lm_mse[i] = np.mean(np.square(y_test[:, i] - lm_pred[:, i]))\n",
        "  mlp_mse[i] = np.mean(np.square(y_test[:, i] - mlp_pred[:, i]))\n",
        "\n",
        "plt.plot(np.arange(1, n_steps_out+1), pers_mse*(train_max - train_min)**2)\n",
        "plt.plot(np.arange(1, n_steps_out+1), lm_mse*(train_max - train_min)**2)\n",
        "plt.plot(np.arange(1, n_steps_out+1), mlp_mse*(train_max - train_min)**2)\n",
        "\n",
        "plt.legend([\"Persistence\", \"Linear\", \"MLP\"])\n",
        "plt.xlabel(\"Prediction Step [h]\")\n",
        "plt.ylabel(\"MSE\")\n",
        "plt.grid()"
      ],
      "metadata": {
        "id": "vFRWFg727bAa",
        "colab": {
          "base_uri": "https://localhost:8080/",
          "height": 279
        },
        "outputId": "32bf17d8-4061-4014-b0fb-8874db483629"
      },
      "execution_count": 31,
      "outputs": [
        {
          "output_type": "display_data",
          "data": {
            "text/plain": [
              "<Figure size 432x288 with 1 Axes>"
            ],
            "image/png": "[encoded data removed]"
          },
          "metadata": {
            "needs_background": "light"
          }
        }
      ]
    }
  ],
  "metadata": {
    "colab": {
      "provenance": []
    },
    "gpuClass": "standard",
    "kernelspec": {
      "display_name": "Python 3",
      "name": "python3"
    },
    "language_info": {
      "name": "python"
    }
  },
  "nbformat": 4,
  "nbformat_minor": 0
}